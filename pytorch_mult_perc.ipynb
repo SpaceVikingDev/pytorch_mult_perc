{
 "cells": [
  {
   "cell_type": "code",
   "execution_count": 16,
   "id": "8d78244e-8d0f-48e7-bcec-49cd354e4b58",
   "metadata": {},
   "outputs": [],
   "source": [
    "# based on tutorial: https://www.youtube.com/watch?v=Jy4wM2X21u0\n",
    "# imports\n",
    "import torch # entire lib\n",
    "import torch.nn as nn # all neuronetwork modules\n",
    "import torch.optim as optim # optimization algorithms\n",
    "import torch.nn.functional as F # activation functions\n",
    "from torch.utils.data import DataLoader # dataset management\n",
    "import torchvision.datasets as datasets # standard datasets (for easy importing)\n",
    "import torchvision.transforms as transforms # transformations to perform on a dataset"
   ]
  },
  {
   "cell_type": "code",
   "execution_count": 17,
   "id": "6f26501b-9037-4fe8-b0c8-211ea94fc716",
   "metadata": {},
   "outputs": [
    {
     "name": "stdout",
     "output_type": "stream",
     "text": [
      "torch.Size([64, 10])\n"
     ]
    }
   ],
   "source": [
    "# create fully connected network\n",
    "class NN(nn.Module): # inherit from nn.Module\n",
    "    def __init__(self, input_size, num_classes): # input size: 28*28=784 nodes\n",
    "        super(NN, self).__init__() # super calls the initialization method of the parent class\n",
    "        self.fc1 = nn.Linear(input_size, 50)\n",
    "        self.fc2 = nn.Linear(50, num_classes) # hidden layer of 50 nodes (torch.nn.Linear(in_features, out_features, bias=True, device=None, dtype=None))\n",
    "\n",
    "    def forward(self, x): # will run on some input x\n",
    "        x = F.relu(self.fc1(x))\n",
    "        x = self.fc2(x)\n",
    "        return x\n",
    "\n",
    "model = NN(784, 10) # 10 for the number of digits (classes 0-9)\n",
    "x = torch.randn(64, 784) # 64 - batch size (number of images to run simultaneously)\n",
    "# torch.randn(*size, *, out=None, dtype=None, layout=torch.strided, device=None, requires_grad=False) → Tensor\n",
    "# returns a tensor filled with random numbers from a normal distribution with mean 0 and variance 1 (also called the standard normal distribution).\n",
    "\n",
    "print(model(x).shape) # must be 64 by 10"
   ]
  },
  {
   "cell_type": "code",
   "execution_count": 18,
   "id": "a6ce4a48-dcfa-4fea-b121-85c7650ee963",
   "metadata": {},
   "outputs": [],
   "source": [
    "# set device\n",
    "device = torch.device('cuda' if torch.cuda.is_available() else 'cpu')"
   ]
  },
  {
   "cell_type": "code",
   "execution_count": 19,
   "id": "db92fa3d-1690-4043-a9ee-3eb936bbf7c0",
   "metadata": {},
   "outputs": [],
   "source": [
    "# hyperparameters\n",
    "input_size = 784\n",
    "num_classes = 10\n",
    "learning_rate = 0.001\n",
    "batch_size = 64\n",
    "num_epochs = 10"
   ]
  },
  {
   "cell_type": "code",
   "execution_count": 20,
   "id": "e75ffb8b-6a9e-46f7-bb85-2e512216a5db",
   "metadata": {},
   "outputs": [],
   "source": [
    "# load data\n",
    "train_dataset = datasets.MNIST(root='dataset/', train=True, transform=transforms.ToTensor(), download=True) # 'dataset/' - directory to keep datasets\n",
    "train_loader = DataLoader(dataset=train_dataset, batch_size=batch_size, shuffle=True) # shuffle makes sure we don't have same images in a batch for every epoch\n",
    "test_dataset = datasets.MNIST(root='dataset/', train=False, transform=transforms.ToTensor(), download=True)\n",
    "test_loader = DataLoader(dataset=test_dataset, batch_size=batch_size, shuffle=True)"
   ]
  },
  {
   "cell_type": "code",
   "execution_count": 21,
   "id": "1d96e9fb-49e6-4541-b7ad-1f24947922a8",
   "metadata": {},
   "outputs": [],
   "source": [
    "# initialize network\n",
    "model = NN(input_size=input_size, num_classes=num_classes).to(device)"
   ]
  },
  {
   "cell_type": "code",
   "execution_count": 22,
   "id": "aa25937c-41b3-4c33-a610-76fec8cc62b7",
   "metadata": {},
   "outputs": [],
   "source": [
    "# loss and optimizer\n",
    "criterion = nn.CrossEntropyLoss()\n",
    "optimizer = optim.Adam(model.parameters(), lr = learning_rate)"
   ]
  },
  {
   "cell_type": "code",
   "execution_count": 25,
   "id": "183b39c0-3f06-4a07-a288-a55e53884409",
   "metadata": {},
   "outputs": [
    {
     "name": "stdout",
     "output_type": "stream",
     "text": [
      "Train finished\n"
     ]
    }
   ],
   "source": [
    "# train network\n",
    "for epoch in range(num_epochs): # 1 epoch means that network has seen all the images in the dataset\n",
    "    for batch_idx, (data, targets) in enumerate(train_loader): # we go for each batch we have in train loader, data - images, targets - correct labels for each image\n",
    "        # get data to cuda if possible\n",
    "        data = data.to(device=device) # to - returns a Tensor with the specified device and (optional) dtype\n",
    "        targets = targets.to(device=device)\n",
    "        \n",
    "        # get to correct shape (unroll matrix to a long vector: 28x28 to 28*28=784), '-1' flatten all to single dimension\n",
    "        data = data.reshape(data.shape[0], -1) # from torch.Size([64, 1, 28, 28]) to torch.Size([64, 784]) (1 here is channel (0 or 1 for pixel not filled or filled))\n",
    "        \n",
    "        # forward\n",
    "        scores = model(data)\n",
    "        loss = criterion(scores, targets)\n",
    "        \n",
    "        # backward\n",
    "        optimizer.zero_grad() # set all gradients to zero for each batch (so it doesn't store calc from previous props)\n",
    "        loss.backward() # here we update the weights\n",
    "        \n",
    "        # gradient descent or adam step\n",
    "        optimizer.step()\n",
    "print('Train finished')"
   ]
  },
  {
   "cell_type": "code",
   "execution_count": 27,
   "id": "93716d80-02bd-49c8-8d13-4b472caa5310",
   "metadata": {},
   "outputs": [
    {
     "name": "stdout",
     "output_type": "stream",
     "text": [
      "Checking accuracy on training data\n",
      "Got 59679 / 60000 with accuracy 99.47\n",
      "Checking accuracy on test data\n",
      "Got 9726 / 10000 with accuracy 97.26\n"
     ]
    }
   ],
   "source": [
    "# check accuracy on training and test to see how good is our model\n",
    "def check_accuracy(loader, model):\n",
    "    if loader.dataset.train:\n",
    "        print('Checking accuracy on training data')\n",
    "    else:\n",
    "        print('Checking accuracy on test data')\n",
    "    \n",
    "    num_correct = 0\n",
    "    num_samples = 0\n",
    "    model.eval() # you can call either model.eval() or model.train(mode=False) to tell that you are testing\n",
    "    \n",
    "    with torch.no_grad():\n",
    "        for x, y in loader:\n",
    "            x = x.to(device=device)\n",
    "            y = y.to(device=device)\n",
    "            x = x.reshape(x.shape[0], -1)\n",
    "            \n",
    "            scores = model(x)\n",
    "            # shape of scores 64 * 10\n",
    "            _, predictions = scores.max(1) # index of a value\n",
    "            num_correct += (predictions == y).sum()\n",
    "            num_samples += predictions.size(0) # torch.Size([64, 1, 28, 28]) -> 64\n",
    "        \n",
    "        print(f'Got {num_correct} / {num_samples} with accuracy {float(num_correct)/float(num_samples)*100:.2f}')\n",
    "    \n",
    "    model.train()\n",
    "\n",
    "check_accuracy(train_loader, model)\n",
    "check_accuracy(test_loader, model) # 97.26"
   ]
  },
  {
   "cell_type": "code",
   "execution_count": null,
   "id": "513b946a-8e00-41b4-bb72-14c3fff68e4d",
   "metadata": {},
   "outputs": [],
   "source": []
  }
 ],
 "metadata": {
  "kernelspec": {
   "display_name": "Python 3",
   "language": "python",
   "name": "python3"
  },
  "language_info": {
   "codemirror_mode": {
    "name": "ipython",
    "version": 3
   },
   "file_extension": ".py",
   "mimetype": "text/x-python",
   "name": "python",
   "nbconvert_exporter": "python",
   "pygments_lexer": "ipython3",
   "version": "3.6.9"
  }
 },
 "nbformat": 4,
 "nbformat_minor": 5
}
